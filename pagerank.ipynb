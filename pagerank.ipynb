{
 "cells": [
  {
   "cell_type": "code",
   "execution_count": 1,
   "id": "af0b2bc7-ff6e-4e22-befd-07b70f086aa4",
   "metadata": {},
   "outputs": [],
   "source": [
    "import numpy as np\n",
    "from numpy.fft import fft, ifft, fft2, ifft2\n",
    "from scipy.sparse import csr_matrix\n",
    "import matplotlib.pyplot as plt\n",
    "%matplotlib inline"
   ]
  },
  {
   "cell_type": "markdown",
   "id": "de7f35a3-bef4-4284-a5e6-e83a1e13668a",
   "metadata": {},
   "source": [
    "#### (a)\n"
   ]
  },
  {
   "cell_type": "code",
   "execution_count": 20,
   "id": "10c88d80-98e0-4dfc-bba4-0e0e6e9e5703",
   "metadata": {},
   "outputs": [],
   "source": [
    "\n",
    "def PageRank(G, alpha):\n",
    "    R = len(G)\n",
    "    P = np.zeros((R, R))\n",
    "    dt = np.zeros((1, R))\n",
    "    for i in range(R):\n",
    "        n = 0\n",
    "        for j in range(R):\n",
    "            # going down column wise\n",
    "            if (G[j][i] != 0):\n",
    "                n += 1\n",
    "            \n",
    "        dt[0][i] = 1 if n == 0 else 0\n",
    "        \n",
    "        for j in range(R):\n",
    "            if (G[j][i] != 0):\n",
    "                P[j][i] = 1 / n\n",
    "                \n",
    "\n",
    "    it = 1\n",
    "    cur_prob_matrix = np.ones((R, 1))\n",
    "    cur_prob_matrix *= 1/R\n",
    "    eet = np.ones((R, R))\n",
    "    e = np.ones((R, 1))\n",
    "    edt = np.matmul(e, dt)\n",
    "    M = alpha * (P + edt / R) + (1 - alpha) / R * eet\n",
    "    # print(M)\n",
    "    # print(dt)\n",
    "    while (True):\n",
    "        next_prob_matrix = np.matmul(M, cur_prob_matrix)\n",
    "        # print(cur_prob_matrix)\n",
    "        # print(next_prob_matrix)\n",
    "        diff = 0\n",
    "        for i in range(R):\n",
    "            cur_diff = np.abs(next_prob_matrix[i][0] - cur_prob_matrix[i][0])\n",
    "            # print(cur_diff)\n",
    "            diff = np.maximum(cur_diff, diff)\n",
    "            \n",
    "        if (diff < 10 ** -8):\n",
    "            break;\n",
    "        else:\n",
    "            it += 1\n",
    "            cur_prob_matrix = next_prob_matrix\n",
    "    \n",
    "    # print(it)\n",
    "    return [cur_prob_matrix, it]\n",
    "        \n",
    "            "
   ]
  },
  {
   "cell_type": "markdown",
   "id": "32a4ec81-4abb-42f5-8c93-66f0cacd5cef",
   "metadata": {},
   "source": [
    "#### (b)"
   ]
  },
  {
   "cell_type": "code",
   "execution_count": 3,
   "id": "7deea048-9f5e-42c6-bd81-bf703dd467c8",
   "metadata": {},
   "outputs": [
    {
     "name": "stdout",
     "output_type": "stream",
     "text": [
      "[[0.00714286 0.45714286 0.00714286 0.00714286 0.00714286 0.00714286\n",
      "  0.00714286 0.00714286 0.00714286 0.00714286 0.00714286 0.07142857\n",
      "  0.00714286 0.00714286]\n",
      " [0.00714286 0.00714286 0.00714286 0.00714286 0.00714286 0.00714286\n",
      "  0.30714286 0.00714286 0.00714286 0.00714286 0.00714286 0.07142857\n",
      "  0.00714286 0.00714286]\n",
      " [0.90714286 0.45714286 0.00714286 0.00714286 0.00714286 0.00714286\n",
      "  0.00714286 0.00714286 0.00714286 0.00714286 0.00714286 0.07142857\n",
      "  0.00714286 0.00714286]\n",
      " [0.00714286 0.00714286 0.00714286 0.00714286 0.90714286 0.30714286\n",
      "  0.00714286 0.00714286 0.00714286 0.00714286 0.00714286 0.07142857\n",
      "  0.00714286 0.00714286]\n",
      " [0.00714286 0.00714286 0.00714286 0.00714286 0.00714286 0.30714286\n",
      "  0.00714286 0.00714286 0.00714286 0.00714286 0.00714286 0.07142857\n",
      "  0.00714286 0.00714286]\n",
      " [0.00714286 0.00714286 0.00714286 0.00714286 0.00714286 0.00714286\n",
      "  0.00714286 0.00714286 0.00714286 0.30714286 0.00714286 0.07142857\n",
      "  0.00714286 0.00714286]\n",
      " [0.00714286 0.00714286 0.45714286 0.00714286 0.00714286 0.00714286\n",
      "  0.00714286 0.00714286 0.00714286 0.00714286 0.45714286 0.07142857\n",
      "  0.00714286 0.00714286]\n",
      " [0.00714286 0.00714286 0.00714286 0.45714286 0.00714286 0.00714286\n",
      "  0.30714286 0.00714286 0.30714286 0.00714286 0.00714286 0.07142857\n",
      "  0.00714286 0.00714286]\n",
      " [0.00714286 0.00714286 0.45714286 0.00714286 0.00714286 0.00714286\n",
      "  0.00714286 0.30714286 0.00714286 0.30714286 0.00714286 0.07142857\n",
      "  0.00714286 0.00714286]\n",
      " [0.00714286 0.00714286 0.00714286 0.45714286 0.00714286 0.00714286\n",
      "  0.00714286 0.00714286 0.00714286 0.00714286 0.00714286 0.07142857\n",
      "  0.00714286 0.45714286]\n",
      " [0.00714286 0.00714286 0.00714286 0.00714286 0.00714286 0.00714286\n",
      "  0.00714286 0.00714286 0.00714286 0.00714286 0.00714286 0.07142857\n",
      "  0.00714286 0.00714286]\n",
      " [0.00714286 0.00714286 0.00714286 0.00714286 0.00714286 0.00714286\n",
      "  0.30714286 0.30714286 0.30714286 0.00714286 0.45714286 0.07142857\n",
      "  0.90714286 0.00714286]\n",
      " [0.00714286 0.00714286 0.00714286 0.00714286 0.00714286 0.00714286\n",
      "  0.00714286 0.30714286 0.30714286 0.30714286 0.00714286 0.07142857\n",
      "  0.00714286 0.45714286]\n",
      " [0.00714286 0.00714286 0.00714286 0.00714286 0.00714286 0.30714286\n",
      "  0.00714286 0.00714286 0.00714286 0.00714286 0.00714286 0.07142857\n",
      "  0.00714286 0.00714286]]\n",
      "[[0. 0. 0. 0. 0. 0. 0. 0. 0. 0. 0. 1. 0. 0.]]\n",
      "22\n",
      "final vector of pagerank scores, in ascending order of node numbers\n",
      " [[ 1.          0.03885065]\n",
      " [ 2.          0.03993066]\n",
      " [ 3.          0.07381624]\n",
      " [ 4.          0.06248824]\n",
      " [ 5.          0.03288854]\n",
      " [ 6.          0.04002228]\n",
      " [ 7.          0.06349601]\n",
      " [ 8.          0.09892554]\n",
      " [ 9.          0.10291726]\n",
      " [10.          0.06380141]\n",
      " [11.          0.02088186]\n",
      " [12.          0.2137178 ]\n",
      " [13.          0.11537496]\n",
      " [14.          0.03288854]]\n",
      "page indices in descending order of importance\n",
      "12.0\n",
      "13.0\n",
      "9.0\n",
      "8.0\n",
      "3.0\n",
      "10.0\n",
      "7.0\n",
      "4.0\n",
      "6.0\n",
      "2.0\n",
      "1.0\n",
      "5.0\n",
      "14.0\n",
      "11.0\n"
     ]
    }
   ],
   "source": [
    "#    [1, 2, 3, 4, 5, 6, 7, 8, 9,10,11,12,13,14]\n",
    "G = [[0, 1, 0, 0, 0, 0, 0, 0, 0, 0, 0, 0, 0, 0], #1\n",
    "     [0, 0, 0, 0, 0, 0, 1, 0, 0, 0, 0, 0, 0, 0], #2\n",
    "     [1, 1, 0, 0, 0, 0, 0, 0, 0, 0, 0, 0, 0, 0], #3\n",
    "     [0, 0, 0, 0, 1, 1, 0, 0, 0, 0, 0, 0, 0, 0], #4\n",
    "     [0, 0, 0, 0, 0, 1, 0, 0, 0, 0, 0, 0, 0, 0], #5\n",
    "     [0, 0, 0, 0, 0, 0, 0, 0, 0, 1, 0, 0, 0, 0], #6\n",
    "     [0, 0, 1, 0, 0, 0, 0, 0, 0, 0, 1, 0, 0, 0], #7\n",
    "     [0, 0, 0, 1, 0, 0, 1, 0, 1, 0, 0, 0, 0, 0], #8\n",
    "     [0, 0, 1, 0, 0, 0, 0, 1, 0, 1, 0, 0, 0, 0], #9\n",
    "     [0, 0, 0, 1, 0, 0, 0, 0, 0, 0, 0, 0, 0, 1], #10\n",
    "     [0, 0, 0, 0, 0, 0, 0, 0, 0, 0, 0, 0, 0, 0], #11\n",
    "     [0, 0, 0, 0, 0, 0, 1, 1, 1, 0, 1, 0, 1, 0], #12\n",
    "     [0, 0, 0, 0, 0, 0, 0, 1, 1, 1, 0, 0, 0, 1], #13\n",
    "     [0, 0, 0, 0, 0, 1, 0, 0, 0, 0, 0, 0, 0, 0]] #14\n",
    "\n",
    "# 12 is a dead end\n",
    "\n",
    "result = PageRank(G, 0.9)\n",
    "importance = np.zeros((len(G), 2))\n",
    "\n",
    "for i in range(len(G)):\n",
    "    importance[i] = [i+1, result[0][i][0]]\n",
    "    \n",
    "print(\"final vector of pagerank scores, in ascending order of node numbers\\n\", importance)\n",
    "hassort = sorted(importance, key=lambda x: x[1], reverse = True)\n",
    "# print(np.sum(importance[:, 1]))\n",
    "\n",
    "print(\"page indices in descending order of importance\")\n",
    "for i in range(len(hassort)):\n",
    "    print(hassort[i][0])\n"
   ]
  },
  {
   "cell_type": "code",
   "execution_count": 4,
   "id": "a0a89dd5-0519-4889-8b21-220ee5290513",
   "metadata": {},
   "outputs": [
    {
     "data": {
      "text/plain": [
       "Text(0.5, 1.0, 'sparsity pattern of adjacency matrix G')"
      ]
     },
     "execution_count": 4,
     "metadata": {},
     "output_type": "execute_result"
    },
    {
     "data": {
      "image/png": "[encoded data removed]",
      "text/plain": [
       "<Figure size 432x288 with 1 Axes>"
      ]
     },
     "metadata": {
      "needs_background": "light"
     },
     "output_type": "display_data"
    }
   ],
   "source": [
    "# plt.subplots(1, 2)\n",
    "# sparsity pattern of adjacency matrix G\n",
    "plt.spy(G)\n",
    "plt.title(\"sparsity pattern of adjacency matrix G\")\n",
    "\n"
   ]
  },
  {
   "cell_type": "code",
   "execution_count": 5,
   "id": "a8b0d393-bd97-44a3-9cc7-a5ff24ff2d98",
   "metadata": {},
   "outputs": [
    {
     "data": {
      "text/plain": [
       "Text(0.5, 1.0, 'pagerank scores by page indices')"
      ]
     },
     "execution_count": 5,
     "metadata": {},
     "output_type": "execute_result"
    },
    {
     "data": {
      "image/png": "[encoded data removed]",
      "text/plain": [
       "<Figure size 432x288 with 1 Axes>"
      ]
     },
     "metadata": {
      "needs_background": "light"
     },
     "output_type": "display_data"
    }
   ],
   "source": [
    "\n",
    "# pagreank scores\n",
    "plt.bar(importance[:, 0], importance[:, 1])\n",
    "plt.title(\"pagerank scores by page indices\")"
   ]
  },
  {
   "cell_type": "markdown",
   "id": "bc6405a8-eced-4dda-85b7-fdc4f6420770",
   "metadata": {},
   "source": [
    "#### (c)"
   ]
  },
  {
   "cell_type": "code",
   "execution_count": 6,
   "id": "e7d4afaa-d930-4839-815a-4de681c1f003",
   "metadata": {},
   "outputs": [],
   "source": [
    "\n",
    "def PageRankSparse(Gcsr, alpha):\n",
    "    R = Gcsr.get_shape()[0]\n",
    "    # print(\"R: \", R)\n",
    "    # print(Gcsr)\n",
    "    P = Gcsr.copy()\n",
    "    P = P / R\n",
    "    dT = csr_matrix((1, R)).toarray()\n",
    "    for i in range(R):\n",
    "        col = Gcsr.getcol(i)\n",
    "        n = col.count_nonzero()\n",
    "        # print(col)\n",
    "        # print(n)\n",
    "        if(n > 0):\n",
    "            P[:, i] = col / n\n",
    "        dT[0][i] = 1 if n == 0 else 0\n",
    "    \n",
    "    temp1 = np.ones((R, 1))\n",
    "    temp2 = np.ones((1, R))\n",
    "    e = csr_matrix(temp1, shape = (R, 1)).toarray()\n",
    "    eT = csr_matrix(temp2, shape = (1, R)).toarray()\n",
    "    p_cur = e / R\n",
    "    it = 1\n",
    "    \n",
    "    while (True):\n",
    "        a = alpha * P.dot(p_cur)\n",
    "        b = alpha / R * e.dot(dT).dot(p_cur)\n",
    "        c = (1-alpha) / R * e.dot(eT).dot(p_cur)\n",
    "        p_next = a + b + c\n",
    "        # print(p_cur)\n",
    "        # print(p_next)\n",
    "        diff = 0\n",
    "        for i in range(R):\n",
    "            cur_diff = np.abs(p_next[i][0] - p_cur[i][0])\n",
    "            # print(cur_diff)\n",
    "            diff = np.maximum(cur_diff, diff)\n",
    "            \n",
    "        if (diff <= 10 ** -8):\n",
    "            break;\n",
    "        else:\n",
    "            it += 1\n",
    "            p_cur = p_next\n",
    "    \n",
    "    return [p_cur, it]\n",
    "    \n",
    "    "
   ]
  },
  {
   "cell_type": "markdown",
   "id": "6ed02a2b-eccb-48e1-b74a-445753758673",
   "metadata": {},
   "source": [
    "#### (d)"
   ]
  },
  {
   "cell_type": "code",
   "execution_count": 7,
   "id": "290725ab-96f3-4470-af40-80a3efea15a4",
   "metadata": {},
   "outputs": [
    {
     "data": {
      "text/plain": [
       "Text(0.5, 1.0, 'sparsity pattern of sparse adjacency matrix Gcsr')"
      ]
     },
     "execution_count": 7,
     "metadata": {},
     "output_type": "execute_result"
    },
    {
     "data": {
      "image/png": "[encoded data removed]",
      "text/plain": [
       "<Figure size 432x288 with 1 Axes>"
      ]
     },
     "metadata": {
      "needs_background": "light"
     },
     "output_type": "display_data"
    }
   ],
   "source": [
    "# Gcsr = csr_matrix(G)\n",
    "# print(PageRankSparse(Gcsr, 0.9))\n",
    "\n",
    "\n",
    "import scipy.io\n",
    "data = scipy.io.loadmat('bbc.mat')\n",
    "Gcsr = data['G']\n",
    "Gcsr = Gcsr.transpose() #data uses the reverse adjacency matrix convention.\n",
    "U = data['U']\n",
    "plt.spy(Gcsr)\n",
    "plt.title(\"sparsity pattern of sparse adjacency matrix Gcsr\")"
   ]
  },
  {
   "cell_type": "code",
   "execution_count": 29,
   "id": "a45c74a2-f17c-4546-9394-62dbea78fe88",
   "metadata": {},
   "outputs": [
    {
     "name": "stdout",
     "output_type": "stream",
     "text": [
      "first 20 page indices in descending order of importance\n",
      "http://www.bbc.com\n",
      "https://www.bbc.com/news\n",
      "https://www.bbc.co.uk/news\n",
      "http://www.bbcamerica.com\n",
      "http://www.bbc.com/future/story/20181024-the-best-age-to-learn-a-foreign-language\n",
      "http://www.bbc.com/future/story/20181026-how-one-sided-objects-like-a-mobius-strip-work\n",
      "https://www.bbcgoodfood.com\n",
      "https://www.bbc.com/news/business-45939984\n",
      "https://www.bbc.com/news/education-45979234\n",
      "https://www.bbc.com/news/uk-politics-45948282\n",
      "https://www.bbc.com/news/business-45961761\n",
      "http://www.bbc.com/travel/columns/to-the-ends-of-the-earth\n",
      "http://www.bbc.com/travel\n",
      "http://www.bbc.com/travel/columns/culinary-roots\n",
      "http://www.bbc.com/travel/columns/welcome-to-our-house\n",
      "http://bbc.in/2s4bidh\n",
      "http://www.bbc.com/travel/columns/travel-journeys\n",
      "http://bbc.in/2rAX81O\n",
      "https://www.bbc.com/news/world-latin-america-45944164\n",
      "https://www.bbc.com/news/world-europe-45902014\n"
     ]
    }
   ],
   "source": [
    "result = PageRankSparse(Gcsr, 0.9)\n",
    "R = Gcsr.get_shape()[0]\n",
    "importance = np.full((R, 2), 0, dtype=object)\n",
    "# print(importance)\n",
    "# print(U)\n",
    "# print(result[0])\n",
    "\n",
    "for i in range(R):\n",
    "    link = U[i][0][0]\n",
    "    prob = result[0][i][0]\n",
    "    importance[i] = [link, prob]\n",
    "    \n",
    "# print(importance)\n",
    "# print(\"final vector of pagerank scores, in ascending order of node numbers\\n\", importance)\n",
    "hassort = sorted(importance, key=lambda x: x[1], reverse = True)\n",
    "# print(np.sum(importance[:, 1]))\n",
    "\n",
    "print(\"first 20 page indices in descending order of importance\")\n",
    "# for i in range(20):\n",
    "#     print(hassort[i][0])\n",
    "\n",
    "indices = (-importance[:, 1]).argsort()[:20]\n",
    "for i in range(len(indices)):\n",
    "    print(U[indices[i]][0][0])\n",
    "# print(indices)\n",
    "\n"
   ]
  },
  {
   "cell_type": "code",
   "execution_count": null,
   "id": "280e88c1-1de6-4a8d-a1c3-32ee3b2baee6",
   "metadata": {},
   "outputs": [],
   "source": []
  }
 ],
 "metadata": {
  "kernelspec": {
   "display_name": "Python 3 (ipykernel)",
   "language": "python",
   "name": "python3"
  },
  "language_info": {
   "codemirror_mode": {
    "name": "ipython",
    "version": 3
   },
   "file_extension": ".py",
   "mimetype": "text/x-python",
   "name": "python",
   "nbconvert_exporter": "python",
   "pygments_lexer": "ipython3",
   "version": "3.9.12"
  }
 },
 "nbformat": 4,
 "nbformat_minor": 5
}
